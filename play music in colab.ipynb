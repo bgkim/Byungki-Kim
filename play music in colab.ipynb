{
  "nbformat": 4,
  "nbformat_minor": 0,
  "metadata": {
    "colab": {
      "name": "Untitled0.ipynb",
      "provenance": [],
      "authorship_tag": "ABX9TyN9SZtInrnWP+8/6o66Hi6m",
      "include_colab_link": true
    },
    "kernelspec": {
      "name": "python3",
      "display_name": "Python 3"
    }
  },
  "cells": [
    {
      "cell_type": "markdown",
      "metadata": {
        "id": "view-in-github",
        "colab_type": "text"
      },
      "source": [
        "<a href=\"https://colab.research.google.com/github/bgkim/Byungki-Kim/blob/master/play%20music%20in%20colab.ipynb\" target=\"_parent\"><img src=\"https://colab.research.google.com/assets/colab-badge.svg\" alt=\"Open In Colab\"/></a>"
      ]
    },
    {
      "cell_type": "code",
      "metadata": {
        "id": "O5yMz3vQ5rCp",
        "colab_type": "code",
        "colab": {}
      },
      "source": [
        "import os\n",
        "import socket\n",
        "import threading\n",
        "import IPython\n",
        "import portpicker\n",
        "\n",
        "from six.moves import SimpleHTTPServer\n",
        "from six.moves import socketserver\n",
        "\n",
        "from google.colab import output\n",
        "\n",
        "class _V6Server(socketserver.TCPServer):\n",
        "  address_family = socket.AF_INET6\n",
        "\n",
        "\n",
        "class _FileHandler(SimpleHTTPServer.SimpleHTTPRequestHandler):\n",
        "  \"\"\"SimpleHTTPRequestHandler with a couple tweaks.\"\"\"\n",
        "\n",
        "  def translate_path(self, path):\n",
        "    # Client specifies absolute paths.\n",
        "    return path\n",
        "\n",
        "  def log_message(self, fmt, *args):\n",
        "    # Suppress logging since it's on the background. Any errors will be reported\n",
        "    # via the handler.\n",
        "    pass\n",
        "\n",
        "  def end_headers(self):\n",
        "    # Do not cache the response in the notebook, since it may be quite large.\n",
        "    self.send_header('x-colab-notebook-cache-control', 'no-cache')\n",
        "    SimpleHTTPServer.SimpleHTTPRequestHandler.end_headers(self)\n",
        "\n",
        "\n",
        "def play_audio(filename):\n",
        "  \"\"\"Downloads the file to the user's local disk via a browser download action.\n",
        "\n",
        "  Args:\n",
        "    filename: Name of the file on disk to be downloaded.\n",
        "  \"\"\"\n",
        "\n",
        "  started = threading.Event()\n",
        "  port = portpicker.pick_unused_port()\n",
        "\n",
        "  def server_entry():\n",
        "    httpd = _V6Server(('::', port), _FileHandler)\n",
        "    started.set()\n",
        "    # Serve multiple requests, in case the audio is played more than once.\n",
        "    httpd.serve_forever()\n",
        "\n",
        "  thread = threading.Thread(target=server_entry)\n",
        "  thread.start()\n",
        "  started.wait()\n",
        "  \n",
        "  output.eval_js(\"\"\"\n",
        "    (()=> {\n",
        "      const audio = document.createElement('audio');\n",
        "      audio.controls = true;\n",
        "      audio.autoplay = true;\n",
        "      audio.src = `https://localhost:%(port)d%(path)s`;\n",
        "      document.body.appendChild(audio);\n",
        "    })()\n",
        "  \"\"\"% {'port': port, 'path': os.path.abspath(filename)})\n",
        "print('playing')\n",
        "play_audio('noise2.wav')"
      ],
      "execution_count": 0,
      "outputs": []
    }
  ]
}