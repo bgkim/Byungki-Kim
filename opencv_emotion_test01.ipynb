{
  "nbformat": 4,
  "nbformat_minor": 0,
  "metadata": {
    "colab": {
      "name": "Untitled0.ipynb",
      "provenance": [],
      "authorship_tag": "ABX9TyPdFC2BA2OnQQEs8wkMQFAb",
      "include_colab_link": true
    },
    "kernelspec": {
      "name": "python3",
      "display_name": "Python 3"
    }
  },
  "cells": [
    {
      "cell_type": "markdown",
      "metadata": {
        "id": "view-in-github",
        "colab_type": "text"
      },
      "source": [
        "<a href=\"https://colab.research.google.com/github/bgkim/Byungki-Kim/blob/master/opencv_emotion_test01.ipynb\" target=\"_parent\"><img src=\"https://colab.research.google.com/assets/colab-badge.svg\" alt=\"Open In Colab\"/></a>"
      ]
    },
    {
      "cell_type": "code",
      "metadata": {
        "id": "bz5Ho_QqfouP",
        "colab_type": "code",
        "colab": {}
      },
      "source": [
        "pip install tensorflow keras opencv-python numpy"
      ],
      "execution_count": 0,
      "outputs": []
    },
    {
      "cell_type": "code",
      "metadata": {
        "id": "JzkQkac9mJ8o",
        "colab_type": "code",
        "colab": {}
      },
      "source": [
        "!if not exist \"./files\" mkdir files, Colab에서는 구글 드라이브에 연결하여 사용  \n",
        "# Download Face detection XML \n",
        "!curl -L -o /content/gdrive/My Drive/haarcascade_frontalface_default.xml https://raw.githubusercontent.com/opencv/opencv/master/data/haarcascades/haarcascade_frontalface_default.xml\n",
        "# Download emotion trained data\n",
        "!curl -L -o /content/gdrive/My Drive/emotion_model.hdf5 https://mechasolution.vn/source/blog/AI-tutorial/Emotion_Recognition/emotion_model.hdf5"
      ],
      "execution_count": 0,
      "outputs": []
    },
    {
      "cell_type": "code",
      "metadata": {
        "id": "UUPGVrqLmzPD",
        "colab_type": "code",
        "colab": {}
      },
      "source": [
        "from google.colab import auth\n",
        "auth.authenticate_user()\n",
        "\n",
        "from google.colab import drive\n",
        "drive.mount('/content/gdrive')\n",
        "\n",
        "#사용시에는 \"/content/gdrive/My Drive/\" 로 패스 설정"
      ],
      "execution_count": 0,
      "outputs": []
    },
    {
      "cell_type": "code",
      "metadata": {
        "id": "ZsmhmGq5wtaR",
        "colab_type": "code",
        "colab": {
          "base_uri": "https://localhost:8080/",
          "height": 262
        },
        "outputId": "22057565-ed66-4cb0-e1ba-04109ee749cd"
      },
      "source": [
        "import cv2\n",
        "import numpy as np   \n",
        "from keras.preprocessing.image import img_to_array\n",
        "from keras.models import load_model\n",
        "\n",
        "# Face detection XML load and trained model loading\n",
        "face_detection = cv2.CascadeClassifier('/content/gdrive/My Drive/data/haarcascade_frontalface_default.xml')\n",
        "emotion_classifier = load_model('/content/gdrive/My Drive/data/emotion_model.hdf5', compile=False)\n",
        "EMOTIONS = [\"Angry\" ,\"Disgusting\",\"Fearful\", \"Happy\", \"Sad\", \"Surpring\", \"Neutral\"]\n",
        "\n",
        "# Video capture using webcam\n",
        "camera = cv2.VideoCapture(0)\n",
        "\n",
        "while True:\n",
        "    # Capture image from camera\n",
        "    ret, frame = camera.read()\n",
        "    \n",
        "    # Convert color to gray scale\n",
        "    gray = cv2.cvtColor(frame, cv2.COLOR_BGR2GRAY)\n",
        "    \n",
        "    # Face detection in frame\n",
        "    faces = face_detection.detectMultiScale(gray,\n",
        "                                            scaleFactor=1.1,\n",
        "                                            minNeighbors=5,\n",
        "                                            minSize=(30,30))\n",
        "    \n",
        "    # Create empty image\n",
        "    canvas = np.zeros((250, 300, 3), dtype=\"uint8\")\n",
        "    \n",
        "    # Perform emotion recognition only when face is detected\n",
        "    if len(faces) > 0:\n",
        "        # For the largest image\n",
        "        face = sorted(faces, reverse=True, key=lambda x: (x[2] - x[0]) * (x[3] - x[1]))[0]\n",
        "        (fX, fY, fW, fH) = face\n",
        "        # Resize the image to 48x48 for neural network\n",
        "        roi = gray[fY:fY + fH, fX:fX + fW]\n",
        "        roi = cv2.resize(roi, (48, 48))\n",
        "        roi = roi.astype(\"float\") / 255.0\n",
        "        roi = img_to_array(roi)\n",
        "        roi = np.expand_dims(roi, axis=0)\n",
        "        \n",
        "        # Emotion predict\n",
        "        preds = emotion_classifier.predict(roi)[0]\n",
        "        emotion_probability = np.max(preds)\n",
        "        label = EMOTIONS[preds.argmax()]\n",
        "        \n",
        "        # Assign labeling\n",
        "        cv2.putText(frame, label, (fX, fY - 10), cv2.FONT_HERSHEY_SIMPLEX, 0.45, (0, 0, 255), 2)\n",
        "        cv2.rectangle(frame, (fX, fY), (fX + fW, fY + fH), (0, 0, 255), 2)\n",
        " \n",
        "        # Label printing\n",
        "        for (i, (emotion, prob)) in enumerate(zip(EMOTIONS, preds)):\n",
        "            text = \"{}: {:.2f}%\".format(emotion, prob * 100)    \n",
        "            w = int(prob * 300)\n",
        "            cv2.rectangle(canvas, (7, (i * 35) + 5), (w, (i * 35) + 35), (0, 0, 255), -1)\n",
        "            cv2.putText(canvas, text, (10, (i * 35) + 23), cv2.FONT_HERSHEY_SIMPLEX, 0.45, (255, 255, 255), 2)\n",
        "\n",
        "    # Open two windows\n",
        "    ## Display image (\"Emotion Recognition\")\n",
        "    ## Display probabilities of emotion\n",
        "    cv2.imshow('Emotion Recognition', frame)\n",
        "    cv2.imshow(\"Probabilities\", canvas)\n",
        "    \n",
        "    # q to quit\n",
        "    if cv2.waitKey(1) & 0xFF == ord('q'):\n",
        "        break\n",
        "\n",
        "# Clear program and close windows\n",
        "camera.release()\n",
        "cv2.destroyAllWindows()"
      ],
      "execution_count": 19,
      "outputs": [
        {
          "output_type": "stream",
          "text": [
            "Using TensorFlow backend.\n"
          ],
          "name": "stderr"
        },
        {
          "output_type": "error",
          "ename": "error",
          "evalue": "ignored",
          "traceback": [
            "\u001b[0;31m---------------------------------------------------------------------------\u001b[0m",
            "\u001b[0;31merror\u001b[0m                                     Traceback (most recent call last)",
            "\u001b[0;32m<ipython-input-19-1384a6c1d3dc>\u001b[0m in \u001b[0;36m<module>\u001b[0;34m()\u001b[0m\n\u001b[1;32m     17\u001b[0m \u001b[0;34m\u001b[0m\u001b[0m\n\u001b[1;32m     18\u001b[0m     \u001b[0;31m# Convert color to gray scale\u001b[0m\u001b[0;34m\u001b[0m\u001b[0;34m\u001b[0m\u001b[0;34m\u001b[0m\u001b[0m\n\u001b[0;32m---> 19\u001b[0;31m     \u001b[0mgray\u001b[0m \u001b[0;34m=\u001b[0m \u001b[0mcv2\u001b[0m\u001b[0;34m.\u001b[0m\u001b[0mcvtColor\u001b[0m\u001b[0;34m(\u001b[0m\u001b[0mframe\u001b[0m\u001b[0;34m,\u001b[0m \u001b[0mcv2\u001b[0m\u001b[0;34m.\u001b[0m\u001b[0mCOLOR_BGR2GRAY\u001b[0m\u001b[0;34m)\u001b[0m\u001b[0;34m\u001b[0m\u001b[0;34m\u001b[0m\u001b[0m\n\u001b[0m\u001b[1;32m     20\u001b[0m \u001b[0;34m\u001b[0m\u001b[0m\n\u001b[1;32m     21\u001b[0m     \u001b[0;31m# Face detection in frame\u001b[0m\u001b[0;34m\u001b[0m\u001b[0;34m\u001b[0m\u001b[0;34m\u001b[0m\u001b[0m\n",
            "\u001b[0;31merror\u001b[0m: OpenCV(4.1.2) /io/opencv/modules/imgproc/src/color.cpp:182: error: (-215:Assertion failed) !_src.empty() in function 'cvtColor'\n"
          ]
        }
      ]
    }
  ]
}